{
  "nbformat": 4,
  "nbformat_minor": 0,
  "metadata": {
    "colab": {
      "name": "flask.ipynb",
      "provenance": [],
      "authorship_tag": "ABX9TyM9WiJ7NlMRjnIfAvJa8O6B",
      "include_colab_link": true
    },
    "kernelspec": {
      "name": "python3",
      "display_name": "Python 3"
    },
    "language_info": {
      "name": "python"
    }
  },
  "cells": [
    {
      "cell_type": "markdown",
      "metadata": {
        "id": "view-in-github",
        "colab_type": "text"
      },
      "source": [
        "<a href=\"https://colab.research.google.com/github/Divyakathirvel26/Covid-19/blob/master/flask.ipynb\" target=\"_parent\"><img src=\"https://colab.research.google.com/assets/colab-badge.svg\" alt=\"Open In Colab\"/></a>"
      ]
    },
    {
      "cell_type": "code",
      "execution_count": 1,
      "metadata": {
        "id": "Z0sFRTAy_Zt8"
      },
      "outputs": [],
      "source": [
        "import os\n",
        "import threading"
      ]
    },
    {
      "cell_type": "code",
      "source": [
        "!pip install pyngrok"
      ],
      "metadata": {
        "colab": {
          "base_uri": "https://localhost:8080/"
        },
        "id": "jylRH3xI_fYx",
        "outputId": "5ee590b5-a39f-4cf3-958f-6dad2c6cecce"
      },
      "execution_count": 2,
      "outputs": [
        {
          "output_type": "stream",
          "name": "stdout",
          "text": [
            "Collecting pyngrok\n",
            "  Downloading pyngrok-5.1.0.tar.gz (745 kB)\n",
            "\u001b[?25l\r\u001b[K     |▍                               | 10 kB 23.5 MB/s eta 0:00:01\r\u001b[K     |▉                               | 20 kB 29.5 MB/s eta 0:00:01\r\u001b[K     |█▎                              | 30 kB 31.3 MB/s eta 0:00:01\r\u001b[K     |█▊                              | 40 kB 26.9 MB/s eta 0:00:01\r\u001b[K     |██▏                             | 51 kB 19.3 MB/s eta 0:00:01\r\u001b[K     |██▋                             | 61 kB 21.0 MB/s eta 0:00:01\r\u001b[K     |███                             | 71 kB 17.9 MB/s eta 0:00:01\r\u001b[K     |███▌                            | 81 kB 19.3 MB/s eta 0:00:01\r\u001b[K     |████                            | 92 kB 20.6 MB/s eta 0:00:01\r\u001b[K     |████▍                           | 102 kB 18.3 MB/s eta 0:00:01\r\u001b[K     |████▉                           | 112 kB 18.3 MB/s eta 0:00:01\r\u001b[K     |█████▎                          | 122 kB 18.3 MB/s eta 0:00:01\r\u001b[K     |█████▊                          | 133 kB 18.3 MB/s eta 0:00:01\r\u001b[K     |██████▏                         | 143 kB 18.3 MB/s eta 0:00:01\r\u001b[K     |██████▋                         | 153 kB 18.3 MB/s eta 0:00:01\r\u001b[K     |███████                         | 163 kB 18.3 MB/s eta 0:00:01\r\u001b[K     |███████▌                        | 174 kB 18.3 MB/s eta 0:00:01\r\u001b[K     |████████                        | 184 kB 18.3 MB/s eta 0:00:01\r\u001b[K     |████████▍                       | 194 kB 18.3 MB/s eta 0:00:01\r\u001b[K     |████████▉                       | 204 kB 18.3 MB/s eta 0:00:01\r\u001b[K     |█████████▎                      | 215 kB 18.3 MB/s eta 0:00:01\r\u001b[K     |█████████▊                      | 225 kB 18.3 MB/s eta 0:00:01\r\u001b[K     |██████████▏                     | 235 kB 18.3 MB/s eta 0:00:01\r\u001b[K     |██████████▌                     | 245 kB 18.3 MB/s eta 0:00:01\r\u001b[K     |███████████                     | 256 kB 18.3 MB/s eta 0:00:01\r\u001b[K     |███████████▍                    | 266 kB 18.3 MB/s eta 0:00:01\r\u001b[K     |███████████▉                    | 276 kB 18.3 MB/s eta 0:00:01\r\u001b[K     |████████████▎                   | 286 kB 18.3 MB/s eta 0:00:01\r\u001b[K     |████████████▊                   | 296 kB 18.3 MB/s eta 0:00:01\r\u001b[K     |█████████████▏                  | 307 kB 18.3 MB/s eta 0:00:01\r\u001b[K     |█████████████▋                  | 317 kB 18.3 MB/s eta 0:00:01\r\u001b[K     |██████████████                  | 327 kB 18.3 MB/s eta 0:00:01\r\u001b[K     |██████████████▌                 | 337 kB 18.3 MB/s eta 0:00:01\r\u001b[K     |███████████████                 | 348 kB 18.3 MB/s eta 0:00:01\r\u001b[K     |███████████████▍                | 358 kB 18.3 MB/s eta 0:00:01\r\u001b[K     |███████████████▉                | 368 kB 18.3 MB/s eta 0:00:01\r\u001b[K     |████████████████▎               | 378 kB 18.3 MB/s eta 0:00:01\r\u001b[K     |████████████████▊               | 389 kB 18.3 MB/s eta 0:00:01\r\u001b[K     |█████████████████▏              | 399 kB 18.3 MB/s eta 0:00:01\r\u001b[K     |█████████████████▋              | 409 kB 18.3 MB/s eta 0:00:01\r\u001b[K     |██████████████████              | 419 kB 18.3 MB/s eta 0:00:01\r\u001b[K     |██████████████████▌             | 430 kB 18.3 MB/s eta 0:00:01\r\u001b[K     |███████████████████             | 440 kB 18.3 MB/s eta 0:00:01\r\u001b[K     |███████████████████▍            | 450 kB 18.3 MB/s eta 0:00:01\r\u001b[K     |███████████████████▉            | 460 kB 18.3 MB/s eta 0:00:01\r\u001b[K     |████████████████████▎           | 471 kB 18.3 MB/s eta 0:00:01\r\u001b[K     |████████████████████▋           | 481 kB 18.3 MB/s eta 0:00:01\r\u001b[K     |█████████████████████           | 491 kB 18.3 MB/s eta 0:00:01\r\u001b[K     |█████████████████████▌          | 501 kB 18.3 MB/s eta 0:00:01\r\u001b[K     |██████████████████████          | 512 kB 18.3 MB/s eta 0:00:01\r\u001b[K     |██████████████████████▍         | 522 kB 18.3 MB/s eta 0:00:01\r\u001b[K     |██████████████████████▉         | 532 kB 18.3 MB/s eta 0:00:01\r\u001b[K     |███████████████████████▎        | 542 kB 18.3 MB/s eta 0:00:01\r\u001b[K     |███████████████████████▊        | 552 kB 18.3 MB/s eta 0:00:01\r\u001b[K     |████████████████████████▏       | 563 kB 18.3 MB/s eta 0:00:01\r\u001b[K     |████████████████████████▋       | 573 kB 18.3 MB/s eta 0:00:01\r\u001b[K     |█████████████████████████       | 583 kB 18.3 MB/s eta 0:00:01\r\u001b[K     |█████████████████████████▌      | 593 kB 18.3 MB/s eta 0:00:01\r\u001b[K     |██████████████████████████      | 604 kB 18.3 MB/s eta 0:00:01\r\u001b[K     |██████████████████████████▍     | 614 kB 18.3 MB/s eta 0:00:01\r\u001b[K     |██████████████████████████▉     | 624 kB 18.3 MB/s eta 0:00:01\r\u001b[K     |███████████████████████████▎    | 634 kB 18.3 MB/s eta 0:00:01\r\u001b[K     |███████████████████████████▊    | 645 kB 18.3 MB/s eta 0:00:01\r\u001b[K     |████████████████████████████▏   | 655 kB 18.3 MB/s eta 0:00:01\r\u001b[K     |████████████████████████████▋   | 665 kB 18.3 MB/s eta 0:00:01\r\u001b[K     |█████████████████████████████   | 675 kB 18.3 MB/s eta 0:00:01\r\u001b[K     |█████████████████████████████▌  | 686 kB 18.3 MB/s eta 0:00:01\r\u001b[K     |██████████████████████████████  | 696 kB 18.3 MB/s eta 0:00:01\r\u001b[K     |██████████████████████████████▍ | 706 kB 18.3 MB/s eta 0:00:01\r\u001b[K     |██████████████████████████████▊ | 716 kB 18.3 MB/s eta 0:00:01\r\u001b[K     |███████████████████████████████▏| 727 kB 18.3 MB/s eta 0:00:01\r\u001b[K     |███████████████████████████████▋| 737 kB 18.3 MB/s eta 0:00:01\r\u001b[K     |████████████████████████████████| 745 kB 18.3 MB/s \n",
            "\u001b[?25hRequirement already satisfied: PyYAML in /usr/local/lib/python3.7/dist-packages (from pyngrok) (3.13)\n",
            "Building wheels for collected packages: pyngrok\n",
            "  Building wheel for pyngrok (setup.py) ... \u001b[?25l\u001b[?25hdone\n",
            "  Created wheel for pyngrok: filename=pyngrok-5.1.0-py3-none-any.whl size=19007 sha256=84580a8a3f29b8bedb21b1be3fc6bed20fa23d6032481ff238cac76fa40f807f\n",
            "  Stored in directory: /root/.cache/pip/wheels/bf/e6/af/ccf6598ecefecd44104069371795cb9b3afbcd16987f6ccfb3\n",
            "Successfully built pyngrok\n",
            "Installing collected packages: pyngrok\n",
            "Successfully installed pyngrok-5.1.0\n"
          ]
        }
      ]
    },
    {
      "cell_type": "code",
      "source": [
        "from flask import Flask\n",
        "from pyngrok import ngrok"
      ],
      "metadata": {
        "id": "e6L8Z9FZ_lqw"
      },
      "execution_count": 3,
      "outputs": []
    },
    {
      "cell_type": "code",
      "source": [
        "os.environ[\"FLASK_ENV\"] = \"development\""
      ],
      "metadata": {
        "id": "GfxTBnnn_qt_"
      },
      "execution_count": 4,
      "outputs": []
    },
    {
      "cell_type": "code",
      "source": [
        "app = Flask(__name__)\n",
        "port = 5000"
      ],
      "metadata": {
        "id": "w6F_lZsu_vHO"
      },
      "execution_count": 5,
      "outputs": []
    },
    {
      "cell_type": "code",
      "source": [
        "ngrok.set_auth_token(\"23y0Te3Kh5loUpg1yWVWA3wh6vX_3jxbqC5858mX5bgysw3ks\")"
      ],
      "metadata": {
        "id": "DjgyyWZF_1X9"
      },
      "execution_count": 24,
      "outputs": []
    },
    {
      "cell_type": "code",
      "source": [
        "public_url = ngrok.connect(port).public_url"
      ],
      "metadata": {
        "id": "dOMhH2UjJSxC"
      },
      "execution_count": 25,
      "outputs": []
    },
    {
      "cell_type": "code",
      "source": [
        "print(\" * ngrok tunnel \\\"{}\\\" -> \\\"http://127.0.0.1:{}\\\"\".format(public_url, port))"
      ],
      "metadata": {
        "colab": {
          "base_uri": "https://localhost:8080/"
        },
        "id": "uS3SIxZKLXBW",
        "outputId": "c37e1153-7cfd-47cd-fbb0-6b3390125e57"
      },
      "execution_count": 26,
      "outputs": [
        {
          "output_type": "stream",
          "name": "stdout",
          "text": [
            " * ngrok tunnel \"http://11f0-35-245-122-58.ngrok.io\" -> \"http://127.0.0.1:5000\"\n"
          ]
        }
      ]
    },
    {
      "cell_type": "code",
      "source": [
        "app.config[\"http://127.0.0.1:5000/ \"] = public_url"
      ],
      "metadata": {
        "id": "C9jAINSzLlSb"
      },
      "execution_count": 27,
      "outputs": []
    },
    {
      "cell_type": "code",
      "source": [
        "from flask import Flask\n",
        "\n",
        "app = Flask(__name__)\n",
        "\n",
        "@app.route(\"/\")\n",
        "def home():\n",
        "    return \"\"\"\n",
        "      <!DOCTYPE html>\n",
        "      <html lang=\"en\">\n",
        "      <head>\n",
        "        <title>Covid 19 Detection</title>\n",
        "        <meta charset=\"utf-8\">\n",
        "        <meta name=\"viewport\" content=\"width=device-width, initial-scale=1\">\n",
        "        <link rel=\"stylesheet\" href=\"https://maxcdn.bootstrapcdn.com/bootstrap/3.4.1/css/bootstrap.min.css\">\n",
        "        <script src=\"https://ajax.googleapis.com/ajax/libs/jquery/3.5.1/jquery.min.js\"></script>\n",
        "        <script src=\"https://maxcdn.bootstrapcdn.com/bootstrap/3.4.1/js/bootstrap.min.js\"></script>\n",
        "      </head>\n",
        "      <body>\n",
        "      <nav class=\"navbar navbar-inverse\">\n",
        "  <div class=\"container-fluid\">\n",
        "    <div class=\"navbar-header\">\n",
        "      <a class=\"navbar-brand\" href=\"#\">Covid 19 Detection</a>\n",
        "    </div>\n",
        "    <ul class=\"nav navbar-nav\">\n",
        "      <li class=\"active\"><a href=\"#\">Home</a></li>\n",
        "      <li class=\"dropdown\">\n",
        "        <a class=\"dropdown-toggle\" data-toggle=\"dropdown\" href=\"#\">Models\n",
        "        <span class=\"caret\"></span></a>\n",
        "        <ul class=\"dropdown-menu\">\n",
        "          <li><a href=\"https://colab.research.google.com/drive/11PHmbGYedwfBdzwFbZI_g7tIzFTwgkSH?authuser=1#scrollTo=G9MPx0cacaE-\">VGG 16 Model</a></li>\n",
        "          <li><a href=\"https://colab.research.google.com/drive/1js32N5nbN38r3tM3hRSjdxolM8EwR-4a?authuser=1#scrollTo=N_yqSI6KgEej\">Sequential Model</a></li>\n",
        "        </ul>\n",
        "      </li>\n",
        "    </ul>\n",
        "  </div>\n",
        "</nav>\n",
        "          <div class=\"jumbotron text-center\">\n",
        "  <h1>Covid 19 Detection using CNN with X-ray and CT-scan Images</h1>\n",
        "  <p>Stay Home,Stay safe</p> \n",
        "  <p>Safety is our No1 Priority</p>\n",
        "</div>\n",
        "  \n",
        "<div class=\"container\">\n",
        "  <div class=\"row\">\n",
        "    <div class=\"col-sm-4\">\n",
        "      <h3>VGG 16</h3>\n",
        "      <p>VGG16 is a convolution neural net (CNN ) architecture which was used to win ILSVR(Imagenet) competition in 2014. </p>\n",
        "      <p>It is considered to be one of the excellent vision model architecture till date.</p>\n",
        "    </div>\n",
        "    <div class=\"col-sm-4\">\n",
        "      <h3>Sequential</h3>\n",
        "      <p>In a sequential model, we stack layers sequentially. So, each layer has unique input and output, and those inputs and outputs then also come with a unique input shape and output shape.</p>\n",
        "    </div>\n",
        "    <div class=\"col-sm-4\">\n",
        "      <h3>Let's Fight and Win together!</h3>        \n",
        "      <p>The Key To Safety Is in Your Hands.</p>\n",
        "    </div>\n",
        "  </div>\n",
        "</div>\n",
        "\n",
        "      </body>\n",
        "      </html>\n",
        "\n",
        "\"\"\"\n",
        "  "
      ],
      "metadata": {
        "id": "Znya4KsvLrLz"
      },
      "execution_count": 29,
      "outputs": []
    },
    {
      "cell_type": "code",
      "source": [
        "threading.Thread(target=app.run, kwargs={\"use_reloader\": False}).start()"
      ],
      "metadata": {
        "colab": {
          "base_uri": "https://localhost:8080/"
        },
        "id": "cVNB0SxKMudq",
        "outputId": "33cfbf74-90a5-4536-fa22-edb601b11555"
      },
      "execution_count": 30,
      "outputs": [
        {
          "output_type": "stream",
          "name": "stdout",
          "text": [
            " * Serving Flask app \"__main__\" (lazy loading)\n",
            " * Environment: development\n",
            " * Debug mode: on\n"
          ]
        },
        {
          "output_type": "stream",
          "name": "stderr",
          "text": [
            "Exception in thread Thread-13:\n",
            "Traceback (most recent call last):\n",
            "  File \"/usr/lib/python3.7/threading.py\", line 926, in _bootstrap_inner\n",
            "    self.run()\n",
            "  File \"/usr/lib/python3.7/threading.py\", line 870, in run\n",
            "    self._target(*self._args, **self._kwargs)\n",
            "  File \"/usr/local/lib/python3.7/dist-packages/flask/app.py\", line 990, in run\n",
            "    run_simple(host, port, self, **options)\n",
            "  File \"/usr/local/lib/python3.7/dist-packages/werkzeug/serving.py\", line 1052, in run_simple\n",
            "    inner()\n",
            "  File \"/usr/local/lib/python3.7/dist-packages/werkzeug/serving.py\", line 1005, in inner\n",
            "    fd=fd,\n",
            "  File \"/usr/local/lib/python3.7/dist-packages/werkzeug/serving.py\", line 848, in make_server\n",
            "    host, port, app, request_handler, passthrough_errors, ssl_context, fd=fd\n",
            "  File \"/usr/local/lib/python3.7/dist-packages/werkzeug/serving.py\", line 740, in __init__\n",
            "    HTTPServer.__init__(self, server_address, handler)\n",
            "  File \"/usr/lib/python3.7/socketserver.py\", line 452, in __init__\n",
            "    self.server_bind()\n",
            "  File \"/usr/lib/python3.7/http/server.py\", line 137, in server_bind\n",
            "    socketserver.TCPServer.server_bind(self)\n",
            "  File \"/usr/lib/python3.7/socketserver.py\", line 466, in server_bind\n",
            "    self.socket.bind(self.server_address)\n",
            "OSError: [Errno 98] Address already in use\n",
            "\n"
          ]
        }
      ]
    }
  ]
}