{
  "nbformat": 4,
  "nbformat_minor": 0,
  "metadata": {
    "colab": {
      "name": "Deployment.ipynb",
      "provenance": [],
      "authorship_tag": "ABX9TyMWw6yNlmBJOUnyI2/teGit",
      "include_colab_link": true
    },
    "kernelspec": {
      "name": "python3",
      "display_name": "Python 3"
    },
    "accelerator": "GPU"
  },
  "cells": [
    {
      "cell_type": "markdown",
      "metadata": {
        "id": "view-in-github",
        "colab_type": "text"
      },
      "source": [
        "<a href=\"https://colab.research.google.com/github/Divyakathirvel26/Covid-19/blob/master/Deployment.ipynb\" target=\"_parent\"><img src=\"https://colab.research.google.com/assets/colab-badge.svg\" alt=\"Open In Colab\"/></a>"
      ]
    },
    {
      "cell_type": "code",
      "metadata": {
        "id": "_PTrkOPIhK4s",
        "colab_type": "code",
        "colab": {
          "base_uri": "https://localhost:8080/",
          "height": 292
        },
        "outputId": "4d26a6b2-4a06-46d3-add9-d6a4fda8d1e2"
      },
      "source": [
        "!pip install flask-ngrok"
      ],
      "execution_count": null,
      "outputs": [
        {
          "output_type": "stream",
          "text": [
            "Collecting flask-ngrok\n",
            "  Downloading https://files.pythonhosted.org/packages/af/6c/f54cb686ad1129e27d125d182f90f52b32f284e6c8df58c1bae54fa1adbc/flask_ngrok-0.0.25-py3-none-any.whl\n",
            "Requirement already satisfied: requests in /usr/local/lib/python3.6/dist-packages (from flask-ngrok) (2.23.0)\n",
            "Requirement already satisfied: Flask>=0.8 in /usr/local/lib/python3.6/dist-packages (from flask-ngrok) (1.1.2)\n",
            "Requirement already satisfied: chardet<4,>=3.0.2 in /usr/local/lib/python3.6/dist-packages (from requests->flask-ngrok) (3.0.4)\n",
            "Requirement already satisfied: idna<3,>=2.5 in /usr/local/lib/python3.6/dist-packages (from requests->flask-ngrok) (2.9)\n",
            "Requirement already satisfied: urllib3!=1.25.0,!=1.25.1,<1.26,>=1.21.1 in /usr/local/lib/python3.6/dist-packages (from requests->flask-ngrok) (1.24.3)\n",
            "Requirement already satisfied: certifi>=2017.4.17 in /usr/local/lib/python3.6/dist-packages (from requests->flask-ngrok) (2020.4.5.2)\n",
            "Requirement already satisfied: click>=5.1 in /usr/local/lib/python3.6/dist-packages (from Flask>=0.8->flask-ngrok) (7.1.2)\n",
            "Requirement already satisfied: Jinja2>=2.10.1 in /usr/local/lib/python3.6/dist-packages (from Flask>=0.8->flask-ngrok) (2.11.2)\n",
            "Requirement already satisfied: Werkzeug>=0.15 in /usr/local/lib/python3.6/dist-packages (from Flask>=0.8->flask-ngrok) (1.0.1)\n",
            "Requirement already satisfied: itsdangerous>=0.24 in /usr/local/lib/python3.6/dist-packages (from Flask>=0.8->flask-ngrok) (1.1.0)\n",
            "Requirement already satisfied: MarkupSafe>=0.23 in /usr/local/lib/python3.6/dist-packages (from Jinja2>=2.10.1->Flask>=0.8->flask-ngrok) (1.1.1)\n",
            "Installing collected packages: flask-ngrok\n",
            "Successfully installed flask-ngrok-0.0.25\n"
          ],
          "name": "stdout"
        }
      ]
    },
    {
      "cell_type": "code",
      "metadata": {
        "id": "OVMaVXPNjIiy",
        "colab_type": "code",
        "colab": {
          "base_uri": "https://localhost:8080/",
          "height": 428
        },
        "outputId": "d0da25a9-ecbc-4989-957b-a3e70f2239b8"
      },
      "source": [
        "pip install flask-bootstrap"
      ],
      "execution_count": null,
      "outputs": [
        {
          "output_type": "stream",
          "text": [
            "Collecting flask-bootstrap\n",
            "\u001b[?25l  Downloading https://files.pythonhosted.org/packages/88/53/958ce7c2aa26280b7fd7f3eecbf13053f1302ee2acb1db58ef32e1c23c2a/Flask-Bootstrap-3.3.7.1.tar.gz (456kB)\n",
            "\r\u001b[K     |▊                               | 10kB 29.7MB/s eta 0:00:01\r\u001b[K     |█▍                              | 20kB 5.9MB/s eta 0:00:01\r\u001b[K     |██▏                             | 30kB 7.0MB/s eta 0:00:01\r\u001b[K     |██▉                             | 40kB 7.6MB/s eta 0:00:01\r\u001b[K     |███▋                            | 51kB 6.6MB/s eta 0:00:01\r\u001b[K     |████▎                           | 61kB 7.0MB/s eta 0:00:01\r\u001b[K     |█████                           | 71kB 7.4MB/s eta 0:00:01\r\u001b[K     |█████▊                          | 81kB 8.0MB/s eta 0:00:01\r\u001b[K     |██████▌                         | 92kB 7.4MB/s eta 0:00:01\r\u001b[K     |███████▏                        | 102kB 7.7MB/s eta 0:00:01\r\u001b[K     |████████                        | 112kB 7.7MB/s eta 0:00:01\r\u001b[K     |████████▋                       | 122kB 7.7MB/s eta 0:00:01\r\u001b[K     |█████████▍                      | 133kB 7.7MB/s eta 0:00:01\r\u001b[K     |██████████                      | 143kB 7.7MB/s eta 0:00:01\r\u001b[K     |██████████▊                     | 153kB 7.7MB/s eta 0:00:01\r\u001b[K     |███████████▌                    | 163kB 7.7MB/s eta 0:00:01\r\u001b[K     |████████████▏                   | 174kB 7.7MB/s eta 0:00:01\r\u001b[K     |█████████████                   | 184kB 7.7MB/s eta 0:00:01\r\u001b[K     |█████████████▋                  | 194kB 7.7MB/s eta 0:00:01\r\u001b[K     |██████████████▍                 | 204kB 7.7MB/s eta 0:00:01\r\u001b[K     |███████████████                 | 215kB 7.7MB/s eta 0:00:01\r\u001b[K     |███████████████▉                | 225kB 7.7MB/s eta 0:00:01\r\u001b[K     |████████████████▌               | 235kB 7.7MB/s eta 0:00:01\r\u001b[K     |█████████████████▎              | 245kB 7.7MB/s eta 0:00:01\r\u001b[K     |██████████████████              | 256kB 7.7MB/s eta 0:00:01\r\u001b[K     |██████████████████▊             | 266kB 7.7MB/s eta 0:00:01\r\u001b[K     |███████████████████▍            | 276kB 7.7MB/s eta 0:00:01\r\u001b[K     |████████████████████            | 286kB 7.7MB/s eta 0:00:01\r\u001b[K     |████████████████████▉           | 296kB 7.7MB/s eta 0:00:01\r\u001b[K     |█████████████████████▌          | 307kB 7.7MB/s eta 0:00:01\r\u001b[K     |██████████████████████▎         | 317kB 7.7MB/s eta 0:00:01\r\u001b[K     |███████████████████████         | 327kB 7.7MB/s eta 0:00:01\r\u001b[K     |███████████████████████▊        | 337kB 7.7MB/s eta 0:00:01\r\u001b[K     |████████████████████████▍       | 348kB 7.7MB/s eta 0:00:01\r\u001b[K     |█████████████████████████▏      | 358kB 7.7MB/s eta 0:00:01\r\u001b[K     |█████████████████████████▉      | 368kB 7.7MB/s eta 0:00:01\r\u001b[K     |██████████████████████████▋     | 378kB 7.7MB/s eta 0:00:01\r\u001b[K     |███████████████████████████▎    | 389kB 7.7MB/s eta 0:00:01\r\u001b[K     |████████████████████████████    | 399kB 7.7MB/s eta 0:00:01\r\u001b[K     |████████████████████████████▊   | 409kB 7.7MB/s eta 0:00:01\r\u001b[K     |█████████████████████████████▍  | 419kB 7.7MB/s eta 0:00:01\r\u001b[K     |██████████████████████████████▏ | 430kB 7.7MB/s eta 0:00:01\r\u001b[K     |██████████████████████████████▉ | 440kB 7.7MB/s eta 0:00:01\r\u001b[K     |███████████████████████████████▋| 450kB 7.7MB/s eta 0:00:01\r\u001b[K     |████████████████████████████████| 460kB 7.7MB/s \n",
            "\u001b[?25hRequirement already satisfied: Flask>=0.8 in /usr/local/lib/python3.6/dist-packages (from flask-bootstrap) (1.1.2)\n",
            "Collecting dominate\n",
            "  Downloading https://files.pythonhosted.org/packages/4f/e6/794a119963b7cfe4bd41177c8f9d4195fe901652f04189fbd2edf513c7b2/dominate-2.5.1-py2.py3-none-any.whl\n",
            "Collecting visitor\n",
            "  Downloading https://files.pythonhosted.org/packages/d7/58/785fcd6de4210049da5fafe62301b197f044f3835393594be368547142b0/visitor-0.1.3.tar.gz\n",
            "Requirement already satisfied: Werkzeug>=0.15 in /usr/local/lib/python3.6/dist-packages (from Flask>=0.8->flask-bootstrap) (1.0.1)\n",
            "Requirement already satisfied: itsdangerous>=0.24 in /usr/local/lib/python3.6/dist-packages (from Flask>=0.8->flask-bootstrap) (1.1.0)\n",
            "Requirement already satisfied: Jinja2>=2.10.1 in /usr/local/lib/python3.6/dist-packages (from Flask>=0.8->flask-bootstrap) (2.11.2)\n",
            "Requirement already satisfied: click>=5.1 in /usr/local/lib/python3.6/dist-packages (from Flask>=0.8->flask-bootstrap) (7.1.2)\n",
            "Requirement already satisfied: MarkupSafe>=0.23 in /usr/local/lib/python3.6/dist-packages (from Jinja2>=2.10.1->Flask>=0.8->flask-bootstrap) (1.1.1)\n",
            "Building wheels for collected packages: flask-bootstrap, visitor\n",
            "  Building wheel for flask-bootstrap (setup.py) ... \u001b[?25l\u001b[?25hdone\n",
            "  Created wheel for flask-bootstrap: filename=Flask_Bootstrap-3.3.7.1-cp36-none-any.whl size=460124 sha256=ae35a686df3bbae88f74ac6f34b5c0e85cfd08c7aaaac5f4b707e0346f5c5c6d\n",
            "  Stored in directory: /root/.cache/pip/wheels/e8/b9/93/ef6ac3b8ead2d72cbcc042b9d58b613aaf47e533b9dc5b5999\n",
            "  Building wheel for visitor (setup.py) ... \u001b[?25l\u001b[?25hdone\n",
            "  Created wheel for visitor: filename=visitor-0.1.3-cp36-none-any.whl size=3932 sha256=92a435bd223538fc284a06073b83f256d61e3911ba1b633a134e9b5325b0a469\n",
            "  Stored in directory: /root/.cache/pip/wheels/68/b0/a2/cc8c7cf94ca3d1088a7d2e27936c1e0da170e05f560973e8dd\n",
            "Successfully built flask-bootstrap visitor\n",
            "Installing collected packages: dominate, visitor, flask-bootstrap\n",
            "Successfully installed dominate-2.5.1 flask-bootstrap-3.3.7.1 visitor-0.1.3\n"
          ],
          "name": "stdout"
        }
      ]
    },
    {
      "cell_type": "code",
      "metadata": {
        "id": "_qaEi3eBdB72",
        "colab_type": "code",
        "colab": {
          "base_uri": "https://localhost:8080/",
          "height": 187
        },
        "outputId": "e7b45d8c-df80-4370-e7c5-1c158e98f751"
      },
      "source": [
        "from flask_ngrok import run_with_ngrok\n",
        "from flask import Flask\n",
        "app = Flask(__name__)\n",
        "run_with_ngrok(app)   #starts ngrok when the app is run\n",
        "@app.route(\"/\")\n",
        "def home():\n",
        "    return \"\"\"\n",
        "      <!DOCTYPE html>\n",
        "      <html lang=\"en\">\n",
        "      <head>\n",
        "        <title>Covid 19 Detection</title>\n",
        "        <meta charset=\"utf-8\">\n",
        "        <meta name=\"viewport\" content=\"width=device-width, initial-scale=1\">\n",
        "        <link rel=\"stylesheet\" href=\"https://maxcdn.bootstrapcdn.com/bootstrap/3.4.1/css/bootstrap.min.css\">\n",
        "        <script src=\"https://ajax.googleapis.com/ajax/libs/jquery/3.5.1/jquery.min.js\"></script>\n",
        "        <script src=\"https://maxcdn.bootstrapcdn.com/bootstrap/3.4.1/js/bootstrap.min.js\"></script>\n",
        "      </head>\n",
        "      <body>\n",
        "      <nav class=\"navbar navbar-inverse\">\n",
        "  <div class=\"container-fluid\">\n",
        "    <div class=\"navbar-header\">\n",
        "      <a class=\"navbar-brand\" href=\"#\">Covid 19 Detection</a>\n",
        "    </div>\n",
        "    <ul class=\"nav navbar-nav\">\n",
        "      <li class=\"active\"><a href=\"#\">Home</a></li>\n",
        "      <li class=\"dropdown\">\n",
        "        <a class=\"dropdown-toggle\" data-toggle=\"dropdown\" href=\"#\">Models\n",
        "        <span class=\"caret\"></span></a>\n",
        "        <ul class=\"dropdown-menu\">\n",
        "          <li><a href=\"https://colab.research.google.com/drive/11PHmbGYedwfBdzwFbZI_g7tIzFTwgkSH?authuser=1#scrollTo=G9MPx0cacaE-\">VGG 16 Model</a></li>\n",
        "          <li><a href=\"https://colab.research.google.com/drive/1js32N5nbN38r3tM3hRSjdxolM8EwR-4a?authuser=1#scrollTo=N_yqSI6KgEej\">Sequential Model</a></li>\n",
        "        </ul>\n",
        "      </li>\n",
        "    </ul>\n",
        "  </div>\n",
        "</nav>\n",
        "          <div class=\"jumbotron text-center\">\n",
        "  <h1>Covid 19 Detection using CNN with X-ray and CT-scan Images</h1>\n",
        "  <p>Stay Home,Stay safe</p> \n",
        "  <p>Safety is our No1 Priority</p>\n",
        "</div>\n",
        "  \n",
        "<div class=\"container\">\n",
        "  <div class=\"row\">\n",
        "    <div class=\"col-sm-4\">\n",
        "      <h3>VGG 16</h3>\n",
        "      <p>VGG16 is a convolution neural net (CNN ) architecture which was used to win ILSVR(Imagenet) competition in 2014. </p>\n",
        "      <p>It is considered to be one of the excellent vision model architecture till date.</p>\n",
        "    </div>\n",
        "    <div class=\"col-sm-4\">\n",
        "      <h3>Sequential</h3>\n",
        "      <p>In a sequential model, we stack layers sequentially. So, each layer has unique input and output, and those inputs and outputs then also come with a unique input shape and output shape.</p>\n",
        "    </div>\n",
        "    <div class=\"col-sm-4\">\n",
        "      <h3>Let's Fight and Win together!</h3>        \n",
        "      <p>The Key To Safety Is in Your Hands.</p>\n",
        "    </div>\n",
        "  </div>\n",
        "</div>\n",
        "\n",
        "      </body>\n",
        "      </html>\n",
        "\n",
        "    \"\"\"\n",
        "app.run()"
      ],
      "execution_count": null,
      "outputs": [
        {
          "output_type": "stream",
          "text": [
            " * Serving Flask app \"__main__\" (lazy loading)\n",
            " * Environment: production\n",
            "\u001b[31m   WARNING: This is a development server. Do not use it in a production deployment.\u001b[0m\n",
            "\u001b[2m   Use a production WSGI server instead.\u001b[0m\n",
            " * Debug mode: off\n"
          ],
          "name": "stdout"
        },
        {
          "output_type": "stream",
          "text": [
            " * Running on http://127.0.0.1:5000/ (Press CTRL+C to quit)\n"
          ],
          "name": "stderr"
        },
        {
          "output_type": "stream",
          "text": [
            " * Running on http://d401b8878894.ngrok.io\n",
            " * Traffic stats available on http://127.0.0.1:4040\n"
          ],
          "name": "stdout"
        },
        {
          "output_type": "stream",
          "text": [
            "127.0.0.1 - - [23/Jun/2020 09:23:38] \"\u001b[37mGET / HTTP/1.1\u001b[0m\" 200 -\n",
            "127.0.0.1 - - [23/Jun/2020 09:23:38] \"\u001b[33mGET /favicon.ico HTTP/1.1\u001b[0m\" 404 -\n"
          ],
          "name": "stderr"
        }
      ]
    },
    {
      "cell_type": "code",
      "metadata": {
        "id": "yoztQ3FfdSda",
        "colab_type": "code",
        "colab": {}
      },
      "source": [
        ""
      ],
      "execution_count": null,
      "outputs": []
    }
  ]
}