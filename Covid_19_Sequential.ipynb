{
  "nbformat": 4,
  "nbformat_minor": 0,
  "metadata": {
    "colab": {
      "name": "Covid 19-Sequential.ipynb",
      "provenance": [],
      "authorship_tag": "ABX9TyNRQrCobgUv/Ye3mfcLZbtH",
      "include_colab_link": true
    },
    "kernelspec": {
      "name": "python3",
      "display_name": "Python 3"
    },
    "accelerator": "GPU"
  },
  "cells": [
    {
      "cell_type": "markdown",
      "metadata": {
        "id": "view-in-github",
        "colab_type": "text"
      },
      "source": [
        "<a href=\"https://colab.research.google.com/github/Divyakathirvel26/Covid-19/blob/master/Covid_19_Sequential.ipynb\" target=\"_parent\"><img src=\"https://colab.research.google.com/assets/colab-badge.svg\" alt=\"Open In Colab\"/></a>"
      ]
    },
    {
      "cell_type": "code",
      "metadata": {
        "id": "Ip8jSOcYbjwx",
        "colab_type": "code",
        "colab": {
          "base_uri": "https://localhost:8080/",
          "height": 122
        },
        "outputId": "d6441035-1935-406a-cae1-2400c23c7ec6"
      },
      "source": [
        "from google.colab import drive\n",
        "drive.mount('/content/drive')"
      ],
      "execution_count": null,
      "outputs": [
        {
          "output_type": "stream",
          "text": [
            "Go to this URL in a browser: https://accounts.google.com/o/oauth2/auth?client_id=947318989803-6bn6qk8qdgf4n4g3pfee6491hc0brc4i.apps.googleusercontent.com&redirect_uri=urn%3aietf%3awg%3aoauth%3a2.0%3aoob&response_type=code&scope=email%20https%3a%2f%2fwww.googleapis.com%2fauth%2fdocs.test%20https%3a%2f%2fwww.googleapis.com%2fauth%2fdrive%20https%3a%2f%2fwww.googleapis.com%2fauth%2fdrive.photos.readonly%20https%3a%2f%2fwww.googleapis.com%2fauth%2fpeopleapi.readonly\n",
            "\n",
            "Enter your authorization code:\n",
            "··········\n",
            "Mounted at /content/drive\n"
          ],
          "name": "stdout"
        }
      ]
    },
    {
      "cell_type": "code",
      "metadata": {
        "id": "9_zY2RhKchpq",
        "colab_type": "code",
        "colab": {}
      },
      "source": [
        "import tensorflow as tf\n",
        "from tensorflow.keras import layers\n",
        "from tensorflow.keras import preprocessing\n",
        "from tensorflow.keras import models\n",
        "from tensorflow.keras.layers import Conv2D\n",
        "from tensorflow.keras.layers import Dense\n",
        "from tensorflow.keras.layers import Flatten\n",
        "from tensorflow.keras.preprocessing import image\n",
        "from tensorflow.keras.layers import MaxPooling2D\n",
        "from tensorflow.keras.models import Sequential\n",
        "import numpy as np"
      ],
      "execution_count": null,
      "outputs": []
    },
    {
      "cell_type": "code",
      "metadata": {
        "id": "ipxOr-20eP6f",
        "colab_type": "code",
        "colab": {}
      },
      "source": [
        "classifier = Sequential()\n",
        "\n",
        "classifier.add(Conv2D(32, (3, 3), input_shape=(224, 224, 3),\n",
        "               activation='relu'))\n",
        "\n",
        "classifier.add(MaxPooling2D(pool_size=(2, 2)))\n",
        "\n",
        "classifier.add(Conv2D(32, (3, 3), activation='relu'))\n",
        "classifier.add(MaxPooling2D(pool_size=(2, 2)))\n",
        "classifier.add(Flatten())\n",
        "\n",
        "classifier.add(Dense(units=128, activation='relu'))\n",
        "classifier.add(Dense(units=2, activation='sigmoid'))"
      ],
      "execution_count": null,
      "outputs": []
    },
    {
      "cell_type": "code",
      "metadata": {
        "id": "iUP_p2rKeUvg",
        "colab_type": "code",
        "colab": {}
      },
      "source": [
        "from tensorflow.keras.preprocessing.image import ImageDataGenerator"
      ],
      "execution_count": null,
      "outputs": []
    },
    {
      "cell_type": "code",
      "metadata": {
        "id": "cU6uP3dveY47",
        "colab_type": "code",
        "colab": {
          "base_uri": "https://localhost:8080/",
          "height": 34
        },
        "outputId": "a8930f57-357b-435b-9731-13971843b821"
      },
      "source": [
        "train_datagen=ImageDataGenerator(rescale=1. / 255, shear_range=0.2,\n",
        "        zoom_range=0.2, horizontal_flip=True)\n",
        "train_generator=train_datagen.flow_from_directory('drive/My Drive/covid-data/', # this is where you specify the path to the main data folder\n",
        "                                                 target_size=(224,224),\n",
        "                                                 color_mode='rgb',\n",
        "                                                 batch_size=32,\n",
        "                                                 class_mode='categorical',\n",
        "                                                 shuffle=True)"
      ],
      "execution_count": null,
      "outputs": [
        {
          "output_type": "stream",
          "text": [
            "Found 519 images belonging to 2 classes.\n"
          ],
          "name": "stdout"
        }
      ]
    },
    {
      "cell_type": "code",
      "metadata": {
        "id": "EA5gHihVeeQW",
        "colab_type": "code",
        "colab": {
          "base_uri": "https://localhost:8080/",
          "height": 68
        },
        "outputId": "35a10fc0-b803-40c0-8f20-766da5ae8207"
      },
      "source": [
        "print(train_generator.n)\n",
        "print(train_generator.batch_size)\n",
        "print(253//32)"
      ],
      "execution_count": null,
      "outputs": [
        {
          "output_type": "stream",
          "text": [
            "519\n",
            "32\n",
            "7\n"
          ],
          "name": "stdout"
        }
      ]
    },
    {
      "cell_type": "code",
      "metadata": {
        "id": "BeXIqEVVeloD",
        "colab_type": "code",
        "colab": {}
      },
      "source": [
        "classifier.compile(optimizer='Adam',\n",
        "              loss='binary_crossentropy',\n",
        "              metrics=['accuracy'])"
      ],
      "execution_count": null,
      "outputs": []
    },
    {
      "cell_type": "code",
      "metadata": {
        "id": "nC4ZznPmeoKC",
        "colab_type": "code",
        "colab": {
          "base_uri": "https://localhost:8080/",
          "height": 768
        },
        "outputId": "0b02f0c6-41c1-4c3e-d5dd-9f6815e72a21"
      },
      "source": [
        "step_size_train=train_generator.n//train_generator.batch_size\n",
        "r = classifier.fit_generator(generator=train_generator,\n",
        "                   steps_per_epoch=step_size_train,\n",
        "                   epochs=20)"
      ],
      "execution_count": null,
      "outputs": [
        {
          "output_type": "stream",
          "text": [
            "WARNING:tensorflow:From <ipython-input-21-ec3a3c56227f>:4: Model.fit_generator (from tensorflow.python.keras.engine.training) is deprecated and will be removed in a future version.\n",
            "Instructions for updating:\n",
            "Please use Model.fit, which supports generators.\n",
            "Epoch 1/20\n",
            "16/16 [==============================] - 100s 6s/step - loss: 0.9523 - accuracy: 0.5359\n",
            "Epoch 2/20\n",
            "16/16 [==============================] - 9s 543ms/step - loss: 0.6906 - accuracy: 0.5667\n",
            "Epoch 3/20\n",
            "16/16 [==============================] - 9s 549ms/step - loss: 0.6806 - accuracy: 0.5832\n",
            "Epoch 4/20\n",
            "16/16 [==============================] - 9s 547ms/step - loss: 0.6726 - accuracy: 0.5811\n",
            "Epoch 5/20\n",
            "16/16 [==============================] - 9s 572ms/step - loss: 0.6558 - accuracy: 0.6181\n",
            "Epoch 6/20\n",
            "16/16 [==============================] - 9s 575ms/step - loss: 0.6557 - accuracy: 0.6037\n",
            "Epoch 7/20\n",
            "16/16 [==============================] - 9s 557ms/step - loss: 0.6444 - accuracy: 0.6181\n",
            "Epoch 8/20\n",
            "16/16 [==============================] - 9s 558ms/step - loss: 0.6387 - accuracy: 0.6078\n",
            "Epoch 9/20\n",
            "16/16 [==============================] - 9s 562ms/step - loss: 0.6438 - accuracy: 0.6140\n",
            "Epoch 10/20\n",
            "16/16 [==============================] - 9s 561ms/step - loss: 0.6393 - accuracy: 0.6222\n",
            "Epoch 11/20\n",
            "16/16 [==============================] - 9s 546ms/step - loss: 0.6387 - accuracy: 0.6386\n",
            "Epoch 12/20\n",
            "16/16 [==============================] - 9s 584ms/step - loss: 0.6515 - accuracy: 0.6386\n",
            "Epoch 13/20\n",
            "16/16 [==============================] - 9s 561ms/step - loss: 0.6119 - accuracy: 0.6571\n",
            "Epoch 14/20\n",
            "16/16 [==============================] - 9s 555ms/step - loss: 0.5937 - accuracy: 0.6817\n",
            "Epoch 15/20\n",
            "16/16 [==============================] - 9s 558ms/step - loss: 0.6075 - accuracy: 0.6817\n",
            "Epoch 16/20\n",
            "16/16 [==============================] - 9s 552ms/step - loss: 0.6062 - accuracy: 0.6653\n",
            "Epoch 17/20\n",
            "16/16 [==============================] - 9s 559ms/step - loss: 0.6080 - accuracy: 0.6694\n",
            "Epoch 18/20\n",
            "16/16 [==============================] - 9s 551ms/step - loss: 0.6111 - accuracy: 0.6735\n",
            "Epoch 19/20\n",
            "16/16 [==============================] - 9s 556ms/step - loss: 0.5808 - accuracy: 0.6982\n",
            "Epoch 20/20\n",
            "16/16 [==============================] - 9s 548ms/step - loss: 0.6041 - accuracy: 0.6879\n"
          ],
          "name": "stdout"
        }
      ]
    },
    {
      "cell_type": "code",
      "metadata": {
        "id": "YlppJ-TtetFK",
        "colab_type": "code",
        "colab": {
          "base_uri": "https://localhost:8080/",
          "height": 312
        },
        "outputId": "7aa79502-5356-462c-909d-629f57d438d8"
      },
      "source": [
        "import matplotlib.pyplot as plt\n",
        "print(r.history.keys())\n",
        "# Loss\n",
        "plt.plot(r.history['loss'])\n",
        "plt.title('model loss')\n",
        "plt.ylabel('loss')\n",
        "plt.xlabel('epoch')\n",
        "plt.show()"
      ],
      "execution_count": null,
      "outputs": [
        {
          "output_type": "stream",
          "text": [
            "dict_keys(['loss', 'accuracy'])\n"
          ],
          "name": "stdout"
        },
        {
          "output_type": "display_data",
          "data": {
            "image/png": "[encoded data removed]",
            "text/plain": [
              "<Figure size 432x288 with 1 Axes>"
            ]
          },
          "metadata": {
            "tags": [],
            "needs_background": "light"
          }
        }
      ]
    },
    {
      "cell_type": "code",
      "metadata": {
        "id": "N_yqSI6KgEej",
        "colab_type": "code",
        "colab": {
          "base_uri": "https://localhost:8080/",
          "height": 295
        },
        "outputId": "ea89b6a4-273c-4a1a-b042-058d3cc4cc35"
      },
      "source": [
        "plt.plot(r.history['accuracy'])\n",
        "plt.title('model accuracy')\n",
        "plt.ylabel('acc')\n",
        "plt.xlabel('epoch')\n",
        "plt.show()"
      ],
      "execution_count": null,
      "outputs": [
        {
          "output_type": "display_data",
          "data": {
            "image/png": "[encoded data removed]",
            "text/plain": [
              "<Figure size 432x288 with 1 Axes>"
            ]
          },
          "metadata": {
            "tags": [],
            "needs_background": "light"
          }
        }
      ]
    },
    {
      "cell_type": "code",
      "metadata": {
        "id": "plCE4xGeg-rJ",
        "colab_type": "code",
        "colab": {}
      },
      "source": [
        ""
      ],
      "execution_count": null,
      "outputs": []
    }
  ]
}